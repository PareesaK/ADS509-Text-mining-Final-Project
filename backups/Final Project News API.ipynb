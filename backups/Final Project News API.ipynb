{
 "cells": [
  {
   "cell_type": "code",
   "execution_count": 3,
   "id": "9ef3e9f7-a1af-4c04-a0b6-0fd5c9cf73c5",
   "metadata": {},
   "outputs": [],
   "source": [
    "import pandas as pd\n",
    "import string\n",
    "from collections import defaultdict\n",
    "from nltk.corpus import stopwords\n",
    "from nltk.tokenize import word_tokenize\n",
    "import nltk\n",
    "from collections import Counter\n",
    "\n",
    "nltk.download(\"stopwords\")\n",
    "nltk.download(\"punkt\")\n"
   ]
  },
  {
   "cell_type": "code",
   "execution_count": 5,
   "id": "7129a60c-9e9a-404c-9741-d46b5f3243d3",
   "metadata": {},
   "outputs": [
    {
     "name": "stdout",
     "output_type": "stream",
     "text": [
      "Files merged successfully into 'deepseek_all.csv'\n"
     ]
    }
   ],
   "source": [
    "\n",
    "# List all your CSV files\n",
    "files = [\"Deepseek_Day_One.csv\", \"Deepseek_Day_Two.csv\", \"Deepseek_Day_Three.csv\", \"Deepseek_Day_Four.csv\", \"Deepseek_Day_Five.csv\"]\n",
    "\n",
    "# Read and concatenate them\n",
    "df = pd.concat([pd.read_csv(f) for f in files], ignore_index=True)\n",
    "\n",
    "# Save to a new CSV file\n",
    "df.to_csv(\"deepseek_all.csv\", index=False)\n",
    "\n",
    "print(\"Files merged successfully into 'deepseek_all.csv'\")\n"
   ]
  },
  {
   "cell_type": "code",
   "execution_count": 7,
   "id": "cb63c6aa-a640-4815-b229-4d22bbe2df92",
   "metadata": {},
   "outputs": [
    {
     "name": "stdout",
     "output_type": "stream",
     "text": [
      "1050\n"
     ]
    }
   ],
   "source": [
    "print(len(df))  \n"
   ]
  },
  {
   "cell_type": "code",
   "execution_count": 9,
   "id": "c4697860-3c5f-4bb5-baa6-02c71a1d8a60",
   "metadata": {},
   "outputs": [
    {
     "name": "stdout",
     "output_type": "stream",
     "text": [
      "1050\n"
     ]
    }
   ],
   "source": [
    "print(df.shape[0]) "
   ]
  },
  {
   "cell_type": "code",
   "execution_count": 11,
   "id": "9b38b00e-aa79-450d-8c9e-10c70939c80e",
   "metadata": {},
   "outputs": [
    {
     "name": "stdout",
     "output_type": "stream",
     "text": [
      "Deepseek_Day_One.csv: ['Unnamed: 0', 'source_id', 'source_name', 'author', 'title', 'description', 'url', 'urlToImage', 'publishedAt', 'content']\n",
      "Deepseek_Day_Two.csv: ['source_id', 'source_name', 'author', 'title', 'description', 'url', 'urlToImage', 'publishedAt', 'content']\n",
      "Deepseek_Day_Three.csv: ['source_id', 'source_name', 'author', 'title', 'description', 'url', 'urlToImage', 'publishedAt', 'content']\n",
      "Deepseek_Day_Four.csv: ['source_id', 'source_name', 'author', 'title', 'description', 'url', 'urlToImage', 'publishedAt', 'content']\n",
      "Deepseek_Day_Five.csv: ['source_id', 'source_name', 'author', 'title', 'description', 'url', 'urlToImage', 'publishedAt', 'content']\n"
     ]
    }
   ],
   "source": [
    "import pandas as pd\n",
    "\n",
    "files = [\"Deepseek_Day_One.csv\", \"Deepseek_Day_Two.csv\", \"Deepseek_Day_Three.csv\", \"Deepseek_Day_Four.csv\", \"Deepseek_Day_Five.csv\"]\n",
    "\n",
    "for file in files:\n",
    "    df_temp = pd.read_csv(file)\n",
    "    print(f\"{file}: {df_temp.columns.tolist()}\")\n"
   ]
  },
  {
   "cell_type": "code",
   "execution_count": 13,
   "id": "f1f93814-a25f-4814-b742-2d101ccf264b",
   "metadata": {},
   "outputs": [
    {
     "name": "stdout",
     "output_type": "stream",
     "text": [
      "Files merged successfully into 'deepseek_all.csv'\n"
     ]
    }
   ],
   "source": [
    "\n",
    "files = [\"Deepseek_Day_One.csv\", \"Deepseek_Day_Two.csv\", \"Deepseek_Day_Three.csv\", \"Deepseek_Day_Four.csv\", \"Deepseek_Day_Five.csv\"]\n",
    "\n",
    "df = pd.concat([pd.read_csv(f, index_col=0) if \"Unnamed: 0\" in pd.read_csv(f, nrows=1).columns else pd.read_csv(f) for f in files], ignore_index=True)\n",
    "\n",
    "df.to_csv(\"deepseek_all.csv\", index=False)\n",
    "\n",
    "print(\"Files merged successfully into 'deepseek_all.csv'\")\n"
   ]
  },
  {
   "cell_type": "code",
   "execution_count": 15,
   "id": "74fc2bcf-6b36-4927-9dfe-b2ed124f8608",
   "metadata": {},
   "outputs": [
    {
     "name": "stdout",
     "output_type": "stream",
     "text": [
      "1050\n",
      "1050\n"
     ]
    }
   ],
   "source": [
    "print(len(df))  \n",
    "print(df.shape[0]) "
   ]
  },
  {
   "cell_type": "code",
   "execution_count": 17,
   "id": "41ff6f98-2412-442c-888d-b52fe50ed087",
   "metadata": {},
   "outputs": [
    {
     "name": "stdout",
     "output_type": "stream",
     "text": [
      "['source_id', 'source_name', 'author', 'title', 'description', 'url', 'urlToImage', 'publishedAt', 'content']\n"
     ]
    }
   ],
   "source": [
    "print(df.columns.tolist())  \n"
   ]
  },
  {
   "cell_type": "code",
   "execution_count": 19,
   "id": "f45db05e-615f-465f-8135-63904c846136",
   "metadata": {},
   "outputs": [
    {
     "name": "stdout",
     "output_type": "stream",
     "text": [
      "Number of duplicate articles: 100\n"
     ]
    }
   ],
   "source": [
    "duplicates = df[df.duplicated(subset=['title', 'url'])]\n",
    "print(f\"Number of duplicate articles: {len(duplicates)}\")\n"
   ]
  },
  {
   "cell_type": "code",
   "execution_count": 21,
   "id": "925747c7-57d0-410b-9b62-abdc31004c50",
   "metadata": {},
   "outputs": [
    {
     "name": "stdout",
     "output_type": "stream",
     "text": [
      "New shape after removing duplicates: (950, 9)\n"
     ]
    }
   ],
   "source": [
    "# Remove duplicates\n",
    "df = df.drop_duplicates()\n",
    "\n",
    "# Check the new shape\n",
    "print(f\"New shape after removing duplicates: {df.shape}\")\n"
   ]
  },
  {
   "cell_type": "markdown",
   "id": "322bac77-58f3-45c2-8923-5b8d1e11f062",
   "metadata": {},
   "source": [
    "Data Cleaning and Tokenization"
   ]
  },
  {
   "cell_type": "code",
   "execution_count": 24,
   "id": "83cf94bc-c6c5-41af-8d50-4177ad4bc8d6",
   "metadata": {},
   "outputs": [
    {
     "name": "stderr",
     "output_type": "stream",
     "text": [
      "[nltk_data] Downloading package stopwords to\n",
      "[nltk_data]     /Users/parisakamizi/nltk_data...\n",
      "[nltk_data]   Package stopwords is already up-to-date!\n",
      "[nltk_data] Downloading package punkt to\n",
      "[nltk_data]     /Users/parisakamizi/nltk_data...\n",
      "[nltk_data]   Package punkt is already up-to-date!\n"
     ]
    },
    {
     "name": "stdout",
     "output_type": "stream",
     "text": [
      "Data cleaning and tokenization complete! Saved as 'deepseek_cleaned.csv'.\n"
     ]
    }
   ],
   "source": [
    "\n",
    "# Load dataset\n",
    "df = pd.read_csv(\"deepseek_all.csv\")\n",
    "\n",
    "# Select text columns\n",
    "text_columns = [\"title\", \"description\", \"content\"]\n",
    "df[text_columns] = df[text_columns].fillna(\"\")  # Replace NaN with empty strings\n",
    "\n",
    "# Define stopwords and punctuation\n",
    "sw = set(stopwords.words(\"english\"))\n",
    "punctuation = set(string.punctuation)\n",
    "\n",
    "# Function to clean and tokenize text\n",
    "def clean_and_tokenize(text):\n",
    "    text = \"\".join([ch for ch in text if ch not in punctuation])  # Remove punctuation\n",
    "    tokens = [token.lower().strip() for token in word_tokenize(text)]  # Tokenize and lowercase\n",
    "    return [token for token in tokens if token not in sw]  # Remove stopwords\n",
    "\n",
    "# Dictionary to store cleaned tokens\n",
    "cleaned_news_data = defaultdict(list)\n",
    "\n",
    "# Iterate through each article\n",
    "for idx, row in df.iterrows():\n",
    "    article_id = f\"article_{idx}\"  # Unique key for each article\n",
    "    combined_text = \" \".join([row[col] for col in text_columns])  # Merge title, description, content\n",
    "    cleaned_tokens = clean_and_tokenize(combined_text)  # Apply cleaning function\n",
    "    cleaned_news_data[article_id] = cleaned_tokens  # Store cleaned tokens\n",
    "\n",
    "# Convert cleaned data to a DataFrame\n",
    "cleaned_df = pd.DataFrame({\"article_id\": list(cleaned_news_data.keys()), \"tokens\": list(cleaned_news_data.values())})\n",
    "\n",
    "# Save cleaned tokens to CSV\n",
    "cleaned_df.to_csv(\"deepseek_cleaned.csv\", index=False)\n",
    "\n",
    "print(\"Data cleaning and tokenization complete! Saved as 'deepseek_cleaned.csv'.\")\n"
   ]
  },
  {
   "cell_type": "code",
   "execution_count": 26,
   "id": "51ccc940-a0fc-43e3-856e-db9fee62b5ec",
   "metadata": {},
   "outputs": [
    {
     "name": "stdout",
     "output_type": "stream",
     "text": [
      "Total Tokens: 33142\n",
      "Unique Tokens: 9094\n",
      "Total Characters: 198474\n",
      "Lexical Diversity: 0.274\n",
      "Top 5 Most Common Tokens: [('deepseek', 1274), ('de', 670), ('ai', 658), ('chars', 539), ('la', 325)]\n",
      "EDA complete! Results saved as 'deepseek_eda.csv'.\n"
     ]
    }
   ],
   "source": [
    "def descriptive_stats(tokens, top_n=5, verbose=True):\n",
    "    \"\"\"\n",
    "    Given a list of tokens, print and return key statistics:\n",
    "    - Number of tokens\n",
    "    - Number of unique tokens\n",
    "    - Lexical diversity\n",
    "    - Number of characters\n",
    "    - Most common tokens\n",
    "    \"\"\"\n",
    "\n",
    "    num_tokens = len(tokens)\n",
    "    num_unique_tokens = len(set(tokens))\n",
    "    lexical_diversity = num_unique_tokens / num_tokens if num_tokens > 0 else 0\n",
    "    num_characters = sum(len(token) for token in tokens)\n",
    "    \n",
    "    # Find most common words\n",
    "    common_tokens = Counter(tokens).most_common(top_n)\n",
    "\n",
    "    if verbose:\n",
    "        print(f\"Total Tokens: {num_tokens}\")\n",
    "        print(f\"Unique Tokens: {num_unique_tokens}\")\n",
    "        print(f\"Total Characters: {num_characters}\")\n",
    "        print(f\"Lexical Diversity: {lexical_diversity:.3f}\")\n",
    "        print(f\"Top {top_n} Most Common Tokens: {common_tokens}\")\n",
    "    \n",
    "    return {\n",
    "        \"num_tokens\": num_tokens,\n",
    "        \"num_unique_tokens\": num_unique_tokens,\n",
    "        \"lexical_diversity\": lexical_diversity,\n",
    "        \"num_characters\": num_characters,\n",
    "        \"common_tokens\": common_tokens\n",
    "    }\n",
    "\n",
    "# Load cleaned tokenized dataset\n",
    "cleaned_df = pd.read_csv(\"deepseek_cleaned.csv\")\n",
    "\n",
    "# Convert token strings back to lists\n",
    "cleaned_df[\"tokens\"] = cleaned_df[\"tokens\"].apply(lambda x: eval(x) if isinstance(x, str) else x)\n",
    "\n",
    "# Combine all tokens into one list\n",
    "all_tokens = [token for tokens in cleaned_df[\"tokens\"] for token in tokens]\n",
    "\n",
    "# Perform EDA\n",
    "eda_results = descriptive_stats(all_tokens)\n",
    "\n",
    "# Convert EDA results into DataFrame for easy export\n",
    "eda_df = pd.DataFrame([eda_results])\n",
    "\n",
    "# Save EDA results\n",
    "eda_df.to_csv(\"deepseek_eda.csv\", index=False)\n",
    "\n",
    "print(\"EDA complete! Results saved as 'deepseek_eda.csv'.\")\n"
   ]
  },
  {
   "cell_type": "code",
   "execution_count": null,
   "id": "ee1d9d88-017d-4124-aea4-98944975b911",
   "metadata": {},
   "outputs": [],
   "source": []
  }
 ],
 "metadata": {
  "kernelspec": {
   "display_name": "Python 3 (ipykernel)",
   "language": "python",
   "name": "python3"
  },
  "language_info": {
   "codemirror_mode": {
    "name": "ipython",
    "version": 3
   },
   "file_extension": ".py",
   "mimetype": "text/x-python",
   "name": "python",
   "nbconvert_exporter": "python",
   "pygments_lexer": "ipython3",
   "version": "3.9.19"
  }
 },
 "nbformat": 4,
 "nbformat_minor": 5
}
